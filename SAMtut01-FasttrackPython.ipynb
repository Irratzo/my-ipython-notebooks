{
 "metadata": {
  "name": "SAMtut01-FasttrackPython"
 },
 "nbformat": 3,
 "nbformat_minor": 0,
 "worksheets": [
  {
   "cells": [
    {
     "cell_type": "heading",
     "level": 1,
     "source": [
      "First Introduction to Python"
     ]
    },
    {
     "cell_type": "heading",
     "level": 2,
     "source": [
      "Fast-track Python"
     ]
    },
    {
     "cell_type": "code",
     "collapsed": false,
     "input": [
      "for element in xrange(1,21,2):\n",
      "    print(element)"
     ],
     "language": "python",
     "outputs": [
      {
       "output_type": "stream",
       "stream": "stdout",
       "text": [
        "1\n",
        "3\n",
        "5\n",
        "7\n",
        "9\n",
        "11\n",
        "13\n",
        "15\n",
        "17\n",
        "19\n"
       ]
      }
     ],
     "prompt_number": 2
    },
    {
     "cell_type": "code",
     "collapsed": false,
     "input": [
      "def sf(n):\n",
      "    k=0\n",
      "    result = 0\n",
      "\n",
      "    while True:\n",
      "        print(\"current nummber to add = \" + str(k))\n",
      "        result += k\n",
      "        k += 1\n",
      "        if k > n:\n",
      "            break\n",
      "    return result\n",
      "sf(10)"
     ],
     "language": "python",
     "outputs": [
      {
       "output_type": "stream",
       "stream": "stdout",
       "text": [
        "current nummber to add = 0\n",
        "current nummber to add = 1\n",
        "current nummber to add = 2\n",
        "current nummber to add = 3\n",
        "current nummber to add = 4\n",
        "current nummber to add = 5\n",
        "current nummber to add = 6\n",
        "current nummber to add = 7\n",
        "current nummber to add = 8\n",
        "current nummber to add = 9\n",
        "current nummber to add = 10\n"
       ]
      },
      {
       "output_type": "pyout",
       "prompt_number": 5,
       "text": [
        "55"
       ]
      }
     ],
     "prompt_number": 5
    },
    {
     "cell_type": "code",
     "collapsed": false,
     "input": [
      "save sumy.py 5"
     ],
     "language": "python",
     "outputs": [
      {
       "output_type": "stream",
       "stream": "stdout",
       "text": [
        "The following commands were written to file `sumy.py`:\n",
        "def sf(n):\n",
        "    k=0\n",
        "    result = 0\n",
        "\n",
        "    while True:\n",
        "        print(\"current nummber to add = \" + str(k))\n",
        "        result += k\n",
        "        k += 1\n",
        "        if k > n:\n",
        "            break\n",
        "    return result\n",
        "sf(10)\n"
       ]
      }
     ],
     "prompt_number": 6
    },
    {
     "cell_type": "code",
     "collapsed": false,
     "input": [
      "from sumy import *\n",
      "sf(3)"
     ],
     "language": "python",
     "outputs": [
      {
       "output_type": "stream",
       "stream": "stdout",
       "text": [
        "current nummber to add = 0\n",
        "current nummber to add = 1\n",
        "current nummber to add = 2\n",
        "current nummber to add = 3\n"
       ]
      },
      {
       "output_type": "pyout",
       "prompt_number": 7,
       "text": [
        "6"
       ]
      }
     ],
     "prompt_number": 7
    },
    {
     "cell_type": "heading",
     "level": 2,
     "source": [
      "Mutable and immutable objects"
     ]
    },
    {
     "cell_type": "markdown",
     "source": [
      "* Arguments are passed by assignment\n",
      "     - **Immutable arguments** are *effectively* passed by value (copying)\n",
      "         - Example types: str, unicode (string types); tuples (immutable sequence); int (see example below)\n",
      "     - **Mutable arguments** are *effectively* passed by pointer.\n",
      "         - Example types: lists (mutable sequence); \n",
      "* In practice, both cases act the same: assigning objects to names.\n",
      "\n",
      "Example:"
     ]
    },
    {
     "cell_type": "code",
     "collapsed": false,
     "input": [
      "def f(a):    #a is assigned reference to objects\n",
      "    a=99     #name a's value is reset to object type int locally\n",
      "    print(a)\n",
      "b = 88\n",
      "f(b)         #prints 99: locally, a and b reference 88, the a ref.s 99 while b still ref.s 88\n",
      "print(b)     #prints 88: "
     ],
     "language": "python",
     "outputs": [
      {
       "output_type": "stream",
       "stream": "stdout",
       "text": [
        "99\n",
        "88\n"
       ]
      }
     ],
     "prompt_number": 6
    },
    {
     "cell_type": "code",
     "collapsed": false,
     "input": [
      "def changer(a,b): #like above, assigned references to objects\n",
      "    a = 2         #like above, a's value reset locally\n",
      "    b[0] = 'spam' #different: b is a list, i.e. mutable object, resets shared object in-place\n"
     ],
     "language": "python",
     "outputs": [],
     "prompt_number": 8
    },
    {
     "cell_type": "code",
     "collapsed": false,
     "input": [
      "X = 1;\n",
      "L = [1, 2]\n",
      "changer(X,L)      #X is immutable, L is mutable\n",
      "print(X)\n",
      "print(L)"
     ],
     "language": "python",
     "outputs": [
      {
       "output_type": "stream",
       "stream": "stdout",
       "text": [
        "1\n",
        "['spam', 2]\n"
       ]
      }
     ],
     "prompt_number": 12
    },
    {
     "cell_type": "markdown",
     "source": [
      "To avoid that mutable arguments are reset, make a local copy.\n",
      "For lists, the command is <quote>L2 = L1[:]</quote>"
     ]
    },
    {
     "cell_type": "code",
     "collapsed": false,
     "input": [
      "def changer(a,Lcaller):\n",
      "    Lcopy = Lcaller[:]   #caller Lcaller will not be impacted\n",
      "    a = 2\n",
      "    Lcopy[0] = 'spam'\n",
      "\n",
      "L = [1 , 2]\n",
      "changer(X,L)"
     ],
     "language": "python",
     "outputs": []
    }
   ]
  }
 ]
}